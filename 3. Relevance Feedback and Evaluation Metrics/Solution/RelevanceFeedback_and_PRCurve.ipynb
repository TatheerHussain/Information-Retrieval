{
 "cells": [
  {
   "cell_type": "markdown",
   "metadata": {},
   "source": [
    "## Question 1\n",
    "\n",
    "### Proprocessing"
   ]
  },
  {
   "cell_type": "code",
   "execution_count": 107,
   "metadata": {},
   "outputs": [],
   "source": [
    "import os\n",
    "import gensim.models as models\n",
    "from gensim.models.doc2vec import Doc2Vec, TaggedDocument\n",
    "from nltk.tokenize import word_tokenize\n",
    "import random,numpy as np\n",
    "import re, string, unicodedata\n",
    "import nltk\n",
    "import contractions\n",
    "import inflect\n",
    "from bs4 import BeautifulSoup\n",
    "from nltk import word_tokenize\n",
    "from nltk.corpus import stopwords\n",
    "# from nltk.stem import LancasterStemmer, WordNetLemmatizer\n",
    "from nltk.tokenize import TweetTokenizer\n",
    "import operator, random\n",
    "import sys\n",
    "import math\n",
    "import pickle\n",
    "from nltk.stem import *\n",
    "from num2words import num2words\n",
    "\n",
    "def remove_header_footer(final_string):\n",
    "\tnew_final_string=\"\"\n",
    "\tflag=1\n",
    "\ttokens=final_string.split('\\n\\n')\n",
    "\t# Remove tokens[0] and tokens[-1]\n",
    "\tfor token in tokens[1:-1]:\n",
    "\t\tflag+=1\n",
    "\t\tnew_final_string+=str(token)+\" \"\n",
    "\tflag=0\n",
    "\treturn new_final_string\n",
    "\n",
    "def remove_html(data):\n",
    "\treturn BeautifulSoup(data, \"html.parser\").get_text()\n",
    "\n",
    "# def remove_btw_sqr(data):\n",
    "#     fin = re.sub('\\[[^]]*\\]', '', data)\n",
    "#     return fin\n",
    "\n",
    "def fix_contractions(data):\n",
    "    fin = contractions.fix(data)\n",
    "    return fin\n",
    "\n",
    "def words_tokenizer(data):\n",
    "\twords = nltk.word_tokenize(data)\n",
    "\t# tknzr = TweetTokenizer()\t\n",
    "\t# tknzr.tokenize(data)\n",
    "\treturn words\n",
    "\n",
    "def remove_non_ascii(words):\n",
    "\tnew_words = []\n",
    "\tflag = 0\n",
    "\tfor i in range(len(words)):\n",
    "\t\tflag = 1\n",
    "\t\tnew_word = unicodedata.normalize('NFKD',unicode(words[i]))\n",
    "\t\tnew_word = new_word.encode('ascii','ignore')\n",
    "\t\tnew_word = new_word.decode('utf-8','ignore')\n",
    "\t\tflag+=1\n",
    "\t\tnew_words.append(new_word)\n",
    "\treturn new_words\n",
    "# def remove_non_ascii(words):\n",
    "#     new_words = []\n",
    "#     flag = 0\n",
    "#     for i in range(len(words)):\n",
    "#  \t\tflag=1\n",
    "#  \t\tnew_word = unicodedata.normalize('NFKD', words[i]).encode('ascii', 'ignore').decode('utf-8', 'ignore')\n",
    "#  \t\tflag+=1\n",
    "#  \t\tnew_words.append(new_word)\n",
    "#  \treturn new_words\n",
    "\n",
    "def to_lowercase(words):\n",
    "    new_words = []\n",
    "    flag = 0\n",
    "    for i in range(len(words)):\n",
    "        new_word = words[i].lower()\n",
    "        flag+=1\n",
    "        new_words.append(new_word)\n",
    "    return new_words\n",
    "\n",
    "def remove_punctuation(words):\n",
    "    new_words = []\n",
    "    flag = 0\n",
    "    for i in range(len(words)):\n",
    "    \tflag+=1\n",
    "        new_word = re.sub(r'([^\\w\\s])|_+', '', words[i])\n",
    "        if new_word != '':\n",
    "        \tflag=0\n",
    "        \tnew_words.append(new_word)\n",
    "    return new_words\n",
    "\n",
    "# def replace_numbers(words):\n",
    "#     p = inflect.engine()\n",
    "#     new_words = []\n",
    "#     flag = 0\n",
    "#     for i in range(len(words)):\n",
    "#     \tflag = 1\n",
    "#         if words[i].isdigit():\n",
    "#             new_word = p.number_to_words(words[i])\n",
    "#             flag+=1\n",
    "#             new_words.append(new_word)\n",
    "#         else:\n",
    "#         \tflag = 0\n",
    "#         \tnew_words.append(words[i])\n",
    "#     return new_words\n",
    "\n",
    "def replace_numbers(words):\n",
    "\tnew_words = []\n",
    "\tfor i in range(len(words)):\n",
    "\t\tif words[i].isdigit():\n",
    "\t\t\ttemp_word = num2words(words[i])\n",
    "\t\t\tnew_words.append(temp_word)\n",
    "\t\telse:\n",
    "\t\t\tnew_words.append(words[i])\n",
    "\treturn new_words\n",
    "\n",
    "def remove_stopwords(words):\n",
    "    new_words = []\n",
    "    flag = 0\n",
    "    for i in range(len(words)):\n",
    "    \tflag = 1\n",
    "        if words[i] not in stopwords.words('english'):\n",
    "        \tflag+=1\n",
    "        \tnew_words.append(words[i])\n",
    "    return new_words\n",
    "\n",
    "def stemming(words):\n",
    "\tnew_words = []\n",
    "\tstemmer = PorterStemmer()\n",
    "\tfor i in range(len(words)):\n",
    "\t\tnew_words.append(stemmer.stem(words[i]))\n",
    "\treturn new_words\n",
    "\n",
    "def preprocess_input_sentence(data):\n",
    "\t# data = remove_header_footer(data)\n",
    "\tdata = remove_html(data)\n",
    "\t# data = remove_btw_sqr(data)\n",
    "\tdata = fix_contractions(data)\n",
    "\twords = words_tokenizer(data)\n",
    "\twords = remove_non_ascii(words)\n",
    "\twords = to_lowercase(words)\n",
    "\twords = remove_punctuation(words)\n",
    "\twords = replace_numbers(words)\n",
    "\twords = stemming(words)\n",
    "\twords = remove_stopwords(words)\n",
    "\treturn words\n",
    "\n",
    "file_mapping_count = 0\n",
    "prepro_data_dic = {}\n",
    "count_to_name = {}\n",
    "name_to_count = {}\n",
    "file_titles = {}\n",
    "toremove = []\n",
    "\n",
    "with open('prepro_files.pkl') as f:\n",
    "\tprepro_data_dic = pickle.load(f)\n",
    "\n",
    "with open('name_to_count.pkl') as f:\n",
    "\tname_to_count = pickle.load(f)\n",
    "\n",
    "with open('count_to_name.pkl') as f:\n",
    "\tcount_to_name = pickle.load(f)\n",
    "\n",
    "# for i in os.listdir('20_newsgroups/'):\n",
    "#     for j in sorted(os.listdir('20_newsgroups/'+i)):\n",
    "#         file_mapping_count+=1\n",
    "# #         print file_mapping_count\n",
    "#         file_name = i+'/'+j\n",
    "# #         print file_name\n",
    "#         count_to_name[file_mapping_count] = file_name\n",
    "#         name_to_count[file_name] = file_mapping_count\n",
    "#         file_name_path = '20_newsgroups/'+i+'/'+j\n",
    "#         temp_data = open(file_name_path,'rb').read().decode('utf-8', 'ignore').lower()\n",
    "#         prepro_data = preprocess_input_sentence(temp_data)\n",
    "#         prepro_data_dic[file_mapping_count] = prepro_data"
   ]
  },
  {
   "cell_type": "code",
   "execution_count": 116,
   "metadata": {},
   "outputs": [],
   "source": [
    "# with open('prepro_files.pkl','wb') as f:\n",
    "#     f.write(pickle.dumps(prepro_data_dic))\n",
    "\n",
    "# with open('name_to_count.pkl','wb') as f:\n",
    "#     f.write(pickle.dumps(name_to_count))\n",
    "\n",
    "# with open('count_to_name.pkl','wb') as f:\n",
    "#     f.write(pickle.dumps(count_to_name))"
   ]
  },
  {
   "cell_type": "code",
   "execution_count": 117,
   "metadata": {},
   "outputs": [],
   "source": [
    "# ------------------------------------- creating dictionaries -----------------------------------\n",
    "\n",
    "vocab = []\n",
    "\n",
    "# for k,v in prepro_data_dic.iteritems():\n",
    "#     for i in range(len(v)):\n",
    "#         if v[i] not in vocab:\n",
    "#             vocab.append(v[i])\n",
    "\n",
    "# with open('vocab.pkl','wb') as f:\n",
    "#     f.write(pickle.dumps(vocab))\n",
    "\n",
    "with open('vocab.pkl') as f:\n",
    "    vocab = pickle.load(f)"
   ]
  },
  {
   "cell_type": "code",
   "execution_count": 3,
   "metadata": {},
   "outputs": [
    {
     "data": {
      "text/plain": [
       "38896"
      ]
     },
     "execution_count": 3,
     "metadata": {},
     "output_type": "execute_result"
    }
   ],
   "source": [
    "len(vocab)"
   ]
  },
  {
   "cell_type": "code",
   "execution_count": 118,
   "metadata": {},
   "outputs": [],
   "source": [
    "# TF Dictionary\n",
    "\n",
    "tf_dic = {}\n",
    "\n",
    "# for k,v in prepro_data_dic.iteritems():\n",
    "#     tf_dic[k] = {}\n",
    "#     for i in range(len(v)):\n",
    "#         if v[i] not in tf_dic[k]:\n",
    "#             tf_dic[k][v[i]] = 0\n",
    "#         tf_dic[k][v[i]] += 1\n",
    "\n",
    "# with open('tf_dic.pkl','wb') as f:\n",
    "#     f.write(pickle.dumps(tf_dic))\n",
    "\n",
    "with open('tf_dic.pkl') as f:\n",
    "    tf_dic = pickle.load(f)"
   ]
  },
  {
   "cell_type": "code",
   "execution_count": 119,
   "metadata": {},
   "outputs": [
    {
     "data": {
      "text/plain": [
       "2000"
      ]
     },
     "execution_count": 119,
     "metadata": {},
     "output_type": "execute_result"
    }
   ],
   "source": [
    "len(tf_dic)"
   ]
  },
  {
   "cell_type": "code",
   "execution_count": 120,
   "metadata": {},
   "outputs": [],
   "source": [
    "# DF Dictionary\n",
    "\n",
    "df_dic = {}\n",
    "\n",
    "# for i in range(len(vocab)):\n",
    "#         for k,v in prepro_data_dic.iteritems():\n",
    "#             if vocab[i] in v:\n",
    "#                 if vocab[i] not in df_dic:\n",
    "#                     df_dic[vocab[i]] = []\n",
    "#                 df_dic[vocab[i]].append(k)\n",
    "\n",
    "# with open('df_dic.pkl','wb') as f:\n",
    "#     f.write(pickle.dumps(df_dic))\n",
    "\n",
    "with open('df_dic.pkl') as f:\n",
    "    df_dic = pickle.load(f)"
   ]
  },
  {
   "cell_type": "code",
   "execution_count": 121,
   "metadata": {},
   "outputs": [
    {
     "data": {
      "text/plain": [
       "30054"
      ]
     },
     "execution_count": 121,
     "metadata": {},
     "output_type": "execute_result"
    }
   ],
   "source": [
    "len(df_dic)"
   ]
  },
  {
   "cell_type": "code",
   "execution_count": 123,
   "metadata": {},
   "outputs": [],
   "source": [
    "# # Part 2: Tf-Idf based vector space document retrieval:\n",
    "\n",
    "tfresults = {}\n",
    "# query = vocab\n",
    "# for i in range(len(query)):\n",
    "#     term = query[i]\n",
    "#     for k,v in prepro_data_dic.iteritems():\n",
    "#         tf_value = 0\n",
    "#         if term in tf_dic[k]:\n",
    "#             tf_value = tf_dic[k][term]/(len(prepro_data_dic[k])*1.0)\n",
    "#         df_value = 0\n",
    "#         if term in df_dic:\n",
    "#             df_value = len(df_dic[term])\n",
    "#         body_score = (1+tf_value)*(math.log10(len(prepro_data_dic)/((1+df_value)*1.0)))\n",
    "# #         tf_tit_value = 0\n",
    "# #         if term in tf_tit_dic[k]:\n",
    "# #             tf_tit_value = tf_tit_dic[k][term]/(len(prepro_file_titles[k])*1.0)\n",
    "# #         df_tit_value = 0\n",
    "# #         if term in df_tit_dic:\n",
    "# #             df_tit_value = len(df_tit_dic[term])\n",
    "# #         title_score = (1+tf_tit_value)*(math.log10(len(prepro_file_titles)/((1+df_tit_value)*1.0)))\n",
    "# #         total_score = (0.6*(title_score))+(0.4*(body_score))\n",
    "#         total_score = body_score\n",
    "#         if k not in tfresults:\n",
    "#             tfresults[k] = []\n",
    "#         tfresults[k].append(total_score)\n",
    "# #         tfresults[k].append((term,total_score))\n",
    "\n",
    "# with open('document_term_tfidf.pkl','wb') as f:\n",
    "#     f.write(pickle.dumps(tfresults))\n",
    "\n",
    "with open('document_term_tfidf.pkl') as f:\n",
    "    tfresults = pickle.load(f)"
   ]
  },
  {
   "cell_type": "markdown",
   "metadata": {},
   "source": [
    "## Inital Query Formulation"
   ]
  },
  {
   "cell_type": "code",
   "execution_count": 144,
   "metadata": {},
   "outputs": [
    {
     "name": "stdout",
     "output_type": "stream",
     "text": [
      "Enter query: I am looking to add voice input capability to a user interface I am developing on an HP730 (UNIX) workstation.  I would greatly appreciate  information anyone would care to offer about voice input systems that are  easily accessible from the UNIX environment.\n"
     ]
    }
   ],
   "source": [
    "query = str(raw_input('Enter query: '))\n",
    "query = preprocess_input_sentence(query)\n",
    "\n",
    "query_frequency = {}\n",
    "\n",
    "for i in range(len(query)):\n",
    "    if query[i] not in query_frequency:\n",
    "        query_frequency[query[i]]=0\n",
    "    query_frequency[query[i]]+=1\n",
    "\n",
    "query_vector = []\n",
    "for i in range(len(vocab)):\n",
    "    if vocab[i] in query_frequency:\n",
    "        query_vector.append(query_frequency[vocab[i]])\n",
    "    else:\n",
    "        query_vector.append(0)\n"
   ]
  },
  {
   "cell_type": "code",
   "execution_count": 145,
   "metadata": {},
   "outputs": [
    {
     "data": {
      "text/plain": [
       "30054"
      ]
     },
     "execution_count": 145,
     "metadata": {},
     "output_type": "execute_result"
    }
   ],
   "source": [
    "len(query_vector)"
   ]
  },
  {
   "cell_type": "code",
   "execution_count": 146,
   "metadata": {},
   "outputs": [],
   "source": [
    "# Cosine similarity\n",
    "\n",
    "import numpy as np\n",
    "\n",
    "def cos_sim(a, b):\n",
    "    return np.dot(a, b) / (np.linalg.norm(a) * np.linalg.norm(b))\n",
    "\n",
    "cosine_sim_results = {}\n",
    "\n",
    "query_vector = np.array(query_vector)\n",
    "\n",
    "for k,v in tfresults.iteritems():\n",
    "    doc_vector = np.array(v)\n",
    "    simval = cos_sim(query_vector,doc_vector)\n",
    "    cosine_sim_results[k] = simval\n"
   ]
  },
  {
   "cell_type": "code",
   "execution_count": 147,
   "metadata": {},
   "outputs": [
    {
     "data": {
      "text/plain": [
       "2000"
      ]
     },
     "execution_count": 147,
     "metadata": {},
     "output_type": "execute_result"
    }
   ],
   "source": [
    "len(cosine_sim_results)\n"
   ]
  },
  {
   "cell_type": "code",
   "execution_count": 148,
   "metadata": {},
   "outputs": [
    {
     "name": "stdout",
     "output_type": "stream",
     "text": [
      "Enter k for top k documents: 10\n",
      "\n",
      "0\tcomp.graphics/37915\t0.012546131489862397\n",
      "1\tcomp.graphics/39649\t0.012452887493357356\n",
      "2\tcomp.graphics/38837\t0.012443335534544782\n",
      "3\tcomp.graphics/37954\t0.012437084317673826\n",
      "4\tcomp.graphics/39027\t0.012434829723720795\n",
      "5\tcomp.graphics/39630\t0.012434011622768902\n",
      "6\tcomp.graphics/38647\t0.012430892857835198\n",
      "7\tcomp.graphics/38726\t0.012429592090676617\n",
      "8\tcomp.graphics/38385\t0.012429475478778776\n",
      "9\tcomp.graphics/38299\t0.012428267437645824\n"
     ]
    }
   ],
   "source": [
    "k_value = int(raw_input(\"Enter k for top k documents: \"))\n",
    "\n",
    "sorted_sim_results = sorted(cosine_sim_results.items(), key=operator.itemgetter(1),reverse=True)\n",
    "sorted_sim_results = sorted_sim_results[:k_value]\n",
    "\n",
    "print \"\"\n",
    "for i in range(len(sorted_sim_results)):\n",
    "    print str(i)+\"\\t\"+str(count_to_name[sorted_sim_results[i][0]])+\"\\t\"+str(sorted_sim_results[i][1])"
   ]
  },
  {
   "cell_type": "code",
   "execution_count": 149,
   "metadata": {},
   "outputs": [
    {
     "data": {
      "text/plain": [
       "10"
      ]
     },
     "execution_count": 149,
     "metadata": {},
     "output_type": "execute_result"
    }
   ],
   "source": [
    "len(sorted_sim_results)"
   ]
  },
  {
   "cell_type": "markdown",
   "metadata": {},
   "source": [
    "## Relevance Feedback: Rochhio Algorithm"
   ]
  },
  {
   "cell_type": "code",
   "execution_count": 150,
   "metadata": {},
   "outputs": [
    {
     "name": "stdout",
     "output_type": "stream",
     "text": [
      "Enter space seprated relevant documents (-1 to exit): 0 3 8\n",
      "\n",
      "0\tcomp.graphics/37915\t0.9999971193019729\n",
      "1\tcomp.graphics/37954\t0.9999968551946864\n",
      "2\tcomp.graphics/38385\t0.9999968354493186\n",
      "3\tcomp.graphics/38726\t0.9999967866246069\n",
      "4\tcomp.graphics/38976\t0.9999967778171143\n",
      "5\tcomp.graphics/38376\t0.9999967734429916\n",
      "6\tcomp.graphics/38853\t0.999996773426104\n",
      "7\tcomp.graphics/38852\t0.9999967701954824\n",
      "8\tcomp.graphics/38375\t0.9999967697832441\n",
      "9\tcomp.graphics/38257\t0.9999967689023016\n",
      "Enter space seprated relevant documents (-1 to exit): 0 2 8\n",
      "\n",
      "0\tcomp.graphics/37915\t0.9999999434583708\n",
      "1\tcomp.graphics/38385\t0.9999999187825946\n",
      "2\tcomp.graphics/38852\t0.999999908158116\n",
      "3\tcomp.graphics/38375\t0.9999999080679814\n",
      "4\tcomp.graphics/38853\t0.9999999071845114\n",
      "5\tcomp.graphics/38376\t0.9999999071771087\n",
      "6\tcomp.graphics/38778\t0.9999999048098308\n",
      "7\tcomp.graphics/38377\t0.9999999046387686\n",
      "8\tcomp.graphics/38851\t0.9999999045298841\n",
      "9\trec.motorcycles/102616\t0.9999998991818798\n",
      "Enter space seprated relevant documents (-1 to exit): 0 1 3\n",
      "\n",
      "0\tcomp.graphics/37915\t0.999999955388804\n",
      "1\tcomp.graphics/38385\t0.9999999526988979\n",
      "2\tcomp.graphics/38852\t0.9999999476200109\n",
      "3\tcomp.graphics/38375\t0.9999999475681558\n",
      "4\tcomp.graphics/38853\t0.9999999455405392\n",
      "5\tcomp.graphics/38376\t0.9999999455308612\n",
      "6\tcomp.graphics/38778\t0.9999999434119886\n",
      "7\tcomp.graphics/38377\t0.9999999426665981\n",
      "8\tcomp.graphics/38851\t0.9999999425562975\n",
      "9\trec.motorcycles/102616\t0.9999999380321694\n",
      "Enter space seprated relevant documents (-1 to exit): 0 1 2 3 4 8\n",
      "\n",
      "0\tcomp.graphics/38852\t0.9999999836397881\n",
      "1\tcomp.graphics/38375\t0.9999999835949\n",
      "2\tcomp.graphics/38853\t0.9999999820147569\n",
      "3\tcomp.graphics/38376\t0.9999999820026093\n",
      "4\tcomp.graphics/38377\t0.9999999795321969\n",
      "5\tcomp.graphics/38851\t0.9999999795040644\n",
      "6\tcomp.graphics/38778\t0.9999999780319561\n",
      "7\trec.motorcycles/102616\t0.9999999703984748\n",
      "8\tcomp.graphics/39078\t0.9999999701661247\n",
      "9\tcomp.graphics/38403\t0.9999999701356403\n",
      "Enter space seprated relevant documents (-1 to exit): -1\n"
     ]
    }
   ],
   "source": [
    "\n",
    "total_query_vectors = []\n",
    "total_query_vectors.append(query_vector)\n",
    "while(1):\n",
    "    rel_fedd = str(raw_input(\"Enter space seprated relevant documents (-1 to exit): \"))\n",
    "    rel_fedd = rel_fedd.split()\n",
    "    \n",
    "    if int(rel_fedd[0])!=-1:\n",
    "        # print rel_fedd\n",
    "\n",
    "        rel_vectors = []\n",
    "        non_rel_vectors = []\n",
    "\n",
    "        for i in range(len(rel_fedd)):\n",
    "            ind_val = int(rel_fedd[i])\n",
    "            tvect = tfresults[sorted_sim_results[ind_val][0]]\n",
    "            rel_vectors.append(tvect)\n",
    "\n",
    "        for i in range(len(sorted_sim_results)):\n",
    "            if str(i) not in rel_fedd:\n",
    "                tvect = tfresults[sorted_sim_results[i][0]]\n",
    "                non_rel_vectors.append(tvect)\n",
    "\n",
    "        mean_rel_vector = np.zeros(len(rel_vectors[0]))\n",
    "        # mean_rel_vector = np.array(mean_rel_vector)\n",
    "\n",
    "        for i in range(len(rel_vectors)):\n",
    "            tv = np.array(rel_vectors[i])\n",
    "            mean_rel_vector+=tv\n",
    "        mean_rel_vector = mean_rel_vector/len(rel_vectors)\n",
    "\n",
    "        mean_non_rel_vector = np.zeros(len(non_rel_vectors[0]))\n",
    "        # mean_rel_vector = np.array(mean_rel_vector)\n",
    "\n",
    "        for i in range(len(non_rel_vectors)):\n",
    "            tv = np.array(non_rel_vectors[i])\n",
    "            mean_non_rel_vector+=tv\n",
    "        mean_non_rel_vector = mean_non_rel_vector/len(non_rel_vectors)\n",
    "\n",
    "        # print mean_rel_vector\n",
    "        # print mean_non_rel_vector\n",
    "\n",
    "        query_vector = (0.1 * query_vector) + (0.75 * mean_rel_vector) - (0.25 * mean_non_rel_vector)\n",
    "        cosine_sim_results = {}\n",
    "\n",
    "        query_vector = np.array(query_vector)\n",
    "\n",
    "        for k,v in tfresults.iteritems():\n",
    "            doc_vector = np.array(v)\n",
    "            simval = cos_sim(query_vector,doc_vector)\n",
    "            cosine_sim_results[k] = simval\n",
    "\n",
    "        k_value = 10\n",
    "\n",
    "        sorted_sim_results = sorted(cosine_sim_results.items(), key=operator.itemgetter(1),reverse=True)\n",
    "        sorted_sim_results = sorted_sim_results[:k_value]\n",
    "\n",
    "        print \"\"\n",
    "        for i in range(len(sorted_sim_results)):\n",
    "            print str(i)+\"\\t\"+str(count_to_name[sorted_sim_results[i][0]])+\"\\t\"+str(sorted_sim_results[i][1])\n",
    "        total_query_vectors.append(query_vector)\n",
    "    else:\n",
    "        break\n",
    "\n"
   ]
  },
  {
   "cell_type": "code",
   "execution_count": 151,
   "metadata": {},
   "outputs": [
    {
     "data": {
      "text/plain": [
       "5"
      ]
     },
     "execution_count": 151,
     "metadata": {},
     "output_type": "execute_result"
    }
   ],
   "source": [
    "len(total_query_vectors)"
   ]
  },
  {
   "cell_type": "markdown",
   "metadata": {},
   "source": [
    "## TSNE Plotting"
   ]
  },
  {
   "cell_type": "code",
   "execution_count": 155,
   "metadata": {},
   "outputs": [],
   "source": [
    "# import pickle\n",
    "\n",
    "# with open('plot_tnse_data.pkl','wb') as f:\n",
    "#     f.write(pickle.dumps(total_query_vectors))"
   ]
  },
  {
   "cell_type": "code",
   "execution_count": 154,
   "metadata": {},
   "outputs": [
    {
     "data": {
      "text/plain": [
       "array([-191.30052 ,  -44.926544], dtype=float32)"
      ]
     },
     "execution_count": 154,
     "metadata": {},
     "output_type": "execute_result"
    }
   ],
   "source": [
    "from sklearn.manifold import TSNE\n",
    "\n",
    "X_embedded = TSNE(n_components=2).fit_transform(np.array(total_query_vectors))\n"
   ]
  },
  {
   "cell_type": "code",
   "execution_count": 163,
   "metadata": {},
   "outputs": [
    {
     "data": {
      "image/png": "[encoded data removed]",
      "text/plain": [
       "<Figure size 432x288 with 1 Axes>"
      ]
     },
     "metadata": {
      "needs_background": "light"
     },
     "output_type": "display_data"
    }
   ],
   "source": [
    "import matplotlib.pyplot as plt\n",
    "\n",
    "x = []\n",
    "y = []\n",
    "n = []\n",
    "for i in range(len(X_embedded)):\n",
    "    x.append(X_embedded[i][0])\n",
    "    y.append(X_embedded[i][1])\n",
    "    n.append(i)\n",
    "\n",
    "# colors = np.random.rand(4)\n",
    "# area = (30 * np.random.rand(4))**2  # 0 to 15 point radii\n",
    "\n",
    "fig, ax = plt.subplots()\n",
    "ax.scatter(y, x)\n",
    "for i, txt in enumerate(n):\n",
    "    ax.annotate(txt, (y[i], x[i]))\n",
    "# ax.show()\n"
   ]
  },
  {
   "cell_type": "markdown",
   "metadata": {},
   "source": [
    "## Question 2"
   ]
  },
  {
   "cell_type": "markdown",
   "metadata": {},
   "source": [
    "### Data Processing"
   ]
  },
  {
   "cell_type": "code",
   "execution_count": 164,
   "metadata": {},
   "outputs": [],
   "source": [
    "## ----------------------- Part 2 -----------------------------------\n",
    "\n",
    "data2 = []\n",
    "with open('IR-assignment-3-data.txt') as f:\n",
    "    for line in f:\n",
    "        data2.append(line)\n",
    "        \n",
    "data_qid4 = []\n",
    "for i in range(len(data2)):\n",
    "    if data2[i].split()[1] == 'qid:4':\n",
    "        data_qid4.append(data2[i])"
   ]
  },
  {
   "cell_type": "code",
   "execution_count": 178,
   "metadata": {},
   "outputs": [
    {
     "data": {
      "text/plain": [
       "90.53171"
      ]
     },
     "execution_count": 178,
     "metadata": {},
     "output_type": "execute_result"
    }
   ],
   "source": [
    "float(data_qid4[0].split()[76].split(':')[1])"
   ]
  },
  {
   "cell_type": "markdown",
   "metadata": {},
   "source": [
    "### Extracting values for qid:4"
   ]
  },
  {
   "cell_type": "code",
   "execution_count": 202,
   "metadata": {},
   "outputs": [],
   "source": [
    "rel_ground = {}\n",
    "nonrel_ground = {}\n",
    "\n",
    "tfidf_val = []\n",
    "grnd_label = []\n",
    "\n",
    "tf_rel_dic = {}\n",
    "unique_dic = {}\n",
    "\n",
    "for i in range(len(data_qid4)):\n",
    "    grel = int(data_qid4[i].split()[0])\n",
    "    tfval = float(data_qid4[i].split()[76].split(':')[1])\n",
    "    tfidf_val.append(tfval)\n",
    "    grnd_label.append(grel)\n",
    "    tf_rel_dic[i] = tfval\n",
    "    unique_dic[tfval] = grel\n",
    "    if grel == 0:\n",
    "        nonrel_ground[i] = tfval\n",
    "    else:\n",
    "        rel_ground[i] = tfval"
   ]
  },
  {
   "cell_type": "code",
   "execution_count": 203,
   "metadata": {},
   "outputs": [
    {
     "data": {
      "text/plain": [
       "103"
      ]
     },
     "execution_count": 203,
     "metadata": {},
     "output_type": "execute_result"
    }
   ],
   "source": [
    "len(tfidf_val)"
   ]
  },
  {
   "cell_type": "markdown",
   "metadata": {},
   "source": [
    "### Getting Precision and Recall - Method 1"
   ]
  },
  {
   "cell_type": "code",
   "execution_count": 236,
   "metadata": {},
   "outputs": [
    {
     "name": "stdout",
     "output_type": "stream",
     "text": [
      "1 0 1 44\n",
      "2 0 2 44\n",
      "3 0 3 44\n",
      "4 0 4 44\n",
      "5 1 4 43\n",
      "6 1 5 43\n",
      "7 2 5 42\n",
      "8 3 5 41\n",
      "9 3 6 41\n",
      "10 4 6 40\n",
      "11 4 7 40\n",
      "12 5 7 39\n",
      "13 6 7 38\n",
      "14 7 7 37\n",
      "15 8 7 36\n",
      "16 9 7 35\n",
      "17 9 8 35\n",
      "18 10 8 34\n",
      "19 10 9 34\n",
      "20 11 9 33\n",
      "21 11 10 33\n",
      "22 12 10 32\n",
      "23 12 11 32\n",
      "24 13 11 31\n",
      "25 14 11 30\n",
      "26 15 11 29\n",
      "27 15 12 29\n",
      "28 15 13 29\n",
      "29 15 14 29\n",
      "30 15 15 29\n",
      "31 15 16 29\n",
      "32 16 16 28\n",
      "33 16 17 28\n",
      "34 17 17 27\n",
      "35 17 18 27\n",
      "36 17 19 27\n",
      "37 18 19 26\n",
      "38 19 19 25\n",
      "39 19 20 25\n",
      "40 20 20 24\n",
      "41 21 20 23\n",
      "42 22 20 22\n",
      "43 22 21 22\n",
      "44 22 22 22\n",
      "45 22 23 22\n",
      "46 22 24 22\n",
      "47 23 24 21\n",
      "48 23 25 21\n",
      "49 24 25 20\n",
      "50 24 26 20\n",
      "51 25 26 19\n",
      "52 26 26 18\n",
      "53 26 27 18\n",
      "54 27 27 17\n",
      "55 28 27 16\n",
      "56 28 28 16\n",
      "57 29 28 15\n",
      "58 30 28 14\n",
      "59 30 29 14\n",
      "60 31 29 13\n",
      "61 31 30 13\n",
      "62 31 31 13\n",
      "63 32 31 12\n",
      "64 32 32 12\n",
      "65 32 33 12\n",
      "66 32 34 12\n",
      "67 33 34 11\n",
      "68 33 35 11\n",
      "69 34 35 10\n",
      "70 34 36 10\n",
      "71 35 36 9\n",
      "72 35 37 9\n",
      "73 36 37 8\n",
      "74 36 38 8\n",
      "75 37 38 7\n",
      "76 37 39 7\n",
      "77 37 40 7\n",
      "78 38 40 6\n",
      "79 39 40 5\n",
      "80 40 40 4\n",
      "81 40 41 4\n",
      "82 41 41 3\n",
      "83 41 42 3\n",
      "84 41 43 3\n",
      "85 41 44 3\n",
      "86 41 45 3\n",
      "87 41 46 3\n",
      "88 41 47 3\n",
      "89 41 48 3\n",
      "90 42 48 2\n",
      "91 42 49 2\n",
      "92 42 50 2\n",
      "93 43 50 1\n",
      "94 43 51 1\n",
      "95 43 52 1\n",
      "96 43 53 1\n",
      "97 43 54 1\n",
      "98 44 54 0\n",
      "99 44 55 0\n",
      "100 44 56 0\n",
      "101 44 57 0\n",
      "102 44 58 0\n",
      "103 44 59 0\n"
     ]
    }
   ],
   "source": [
    "sorted_results = sorted(tf_rel_dic.items(), key=operator.itemgetter(1),reverse=True)\n",
    "\n",
    "kval = []\n",
    "precisionval = []\n",
    "recallval = []\n",
    "for i in range(1,len(sorted_results)+1):\n",
    "    topk = sorted_results[:i]\n",
    "    restk = sorted_results[i:]\n",
    "    kval.append(i)\n",
    "    tp=fp=fn=0\n",
    "    for j in range(len(topk)):\n",
    "        indx = topk[j][0]\n",
    "        grnd_rel_val = grnd_label[indx]\n",
    "        if grnd_rel_val>0:\n",
    "            tp+=1\n",
    "        else:\n",
    "            fp+=1\n",
    "    for j in range(len(restk)):\n",
    "        indx = restk[j][0]\n",
    "        grnd_rel_val = grnd_label[indx]\n",
    "        if grnd_rel_val>0:\n",
    "            fn+=1\n",
    "    print i, tp, fp, fn\n",
    "    precision_val = (tp*1.0)/(tp+fp)\n",
    "    recall_val = (tp*1.0)/(tp+fn)\n",
    "    precisionval.append(precision_val)\n",
    "    recallval.append(recall_val)\n",
    "    "
   ]
  },
  {
   "cell_type": "code",
   "execution_count": 237,
   "metadata": {},
   "outputs": [
    {
     "name": "stdout",
     "output_type": "stream",
     "text": [
      "1 0.0 0.0\n",
      "2 0.0 0.0\n",
      "3 0.0 0.0\n",
      "4 0.0 0.0\n",
      "5 0.2 0.0227272727273\n",
      "6 0.166666666667 0.0227272727273\n",
      "7 0.285714285714 0.0454545454545\n",
      "8 0.375 0.0681818181818\n",
      "9 0.333333333333 0.0681818181818\n",
      "10 0.4 0.0909090909091\n",
      "11 0.363636363636 0.0909090909091\n",
      "12 0.416666666667 0.113636363636\n",
      "13 0.461538461538 0.136363636364\n",
      "14 0.5 0.159090909091\n",
      "15 0.533333333333 0.181818181818\n",
      "16 0.5625 0.204545454545\n",
      "17 0.529411764706 0.204545454545\n",
      "18 0.555555555556 0.227272727273\n",
      "19 0.526315789474 0.227272727273\n",
      "20 0.55 0.25\n",
      "21 0.52380952381 0.25\n",
      "22 0.545454545455 0.272727272727\n",
      "23 0.521739130435 0.272727272727\n",
      "24 0.541666666667 0.295454545455\n",
      "25 0.56 0.318181818182\n",
      "26 0.576923076923 0.340909090909\n",
      "27 0.555555555556 0.340909090909\n",
      "28 0.535714285714 0.340909090909\n",
      "29 0.51724137931 0.340909090909\n",
      "30 0.5 0.340909090909\n",
      "31 0.483870967742 0.340909090909\n",
      "32 0.5 0.363636363636\n",
      "33 0.484848484848 0.363636363636\n",
      "34 0.5 0.386363636364\n",
      "35 0.485714285714 0.386363636364\n",
      "36 0.472222222222 0.386363636364\n",
      "37 0.486486486486 0.409090909091\n",
      "38 0.5 0.431818181818\n",
      "39 0.487179487179 0.431818181818\n",
      "40 0.5 0.454545454545\n",
      "41 0.512195121951 0.477272727273\n",
      "42 0.52380952381 0.5\n",
      "43 0.511627906977 0.5\n",
      "44 0.5 0.5\n",
      "45 0.488888888889 0.5\n",
      "46 0.478260869565 0.5\n",
      "47 0.489361702128 0.522727272727\n",
      "48 0.479166666667 0.522727272727\n",
      "49 0.489795918367 0.545454545455\n",
      "50 0.48 0.545454545455\n",
      "51 0.490196078431 0.568181818182\n",
      "52 0.5 0.590909090909\n",
      "53 0.490566037736 0.590909090909\n",
      "54 0.5 0.613636363636\n",
      "55 0.509090909091 0.636363636364\n",
      "56 0.5 0.636363636364\n",
      "57 0.508771929825 0.659090909091\n",
      "58 0.51724137931 0.681818181818\n",
      "59 0.508474576271 0.681818181818\n",
      "60 0.516666666667 0.704545454545\n",
      "61 0.508196721311 0.704545454545\n",
      "62 0.5 0.704545454545\n",
      "63 0.507936507937 0.727272727273\n",
      "64 0.5 0.727272727273\n",
      "65 0.492307692308 0.727272727273\n",
      "66 0.484848484848 0.727272727273\n",
      "67 0.492537313433 0.75\n",
      "68 0.485294117647 0.75\n",
      "69 0.492753623188 0.772727272727\n",
      "70 0.485714285714 0.772727272727\n",
      "71 0.492957746479 0.795454545455\n",
      "72 0.486111111111 0.795454545455\n",
      "73 0.493150684932 0.818181818182\n",
      "74 0.486486486486 0.818181818182\n",
      "75 0.493333333333 0.840909090909\n",
      "76 0.486842105263 0.840909090909\n",
      "77 0.480519480519 0.840909090909\n",
      "78 0.487179487179 0.863636363636\n",
      "79 0.493670886076 0.886363636364\n",
      "80 0.5 0.909090909091\n",
      "81 0.493827160494 0.909090909091\n",
      "82 0.5 0.931818181818\n",
      "83 0.493975903614 0.931818181818\n",
      "84 0.488095238095 0.931818181818\n",
      "85 0.482352941176 0.931818181818\n",
      "86 0.476744186047 0.931818181818\n",
      "87 0.471264367816 0.931818181818\n",
      "88 0.465909090909 0.931818181818\n",
      "89 0.460674157303 0.931818181818\n",
      "90 0.466666666667 0.954545454545\n",
      "91 0.461538461538 0.954545454545\n",
      "92 0.45652173913 0.954545454545\n",
      "93 0.462365591398 0.977272727273\n",
      "94 0.457446808511 0.977272727273\n",
      "95 0.452631578947 0.977272727273\n",
      "96 0.447916666667 0.977272727273\n",
      "97 0.443298969072 0.977272727273\n",
      "98 0.448979591837 1.0\n",
      "99 0.444444444444 1.0\n",
      "100 0.44 1.0\n",
      "101 0.435643564356 1.0\n",
      "102 0.43137254902 1.0\n",
      "103 0.427184466019 1.0\n"
     ]
    }
   ],
   "source": [
    "for i in range(len(precisionval)):\n",
    "    print kval[i],precisionval[i],recallval[i]"
   ]
  },
  {
   "cell_type": "markdown",
   "metadata": {},
   "source": [
    "### Ploting PR Curve with Interpolation\n"
   ]
  },
  {
   "cell_type": "code",
   "execution_count": 276,
   "metadata": {},
   "outputs": [
    {
     "data": {
      "image/png": "[encoded data removed]",
      "text/plain": [
       "<Figure size 432x288 with 1 Axes>"
      ]
     },
     "metadata": {
      "needs_background": "light"
     },
     "output_type": "display_data"
    }
   ],
   "source": [
    "import numpy as np\n",
    "import matplotlib.pyplot as plt\n",
    "\n",
    "#just a dummy sample\n",
    "recall=np.array(recallval)\n",
    "checkloop = 0\n",
    "precision=np.array(precisionval)\n",
    "i=len(recallval)-2\n",
    "\n",
    "# interpolation...\n",
    "while i>=0:\n",
    "    upval = precision[i+1]\n",
    "    lowval = precision[i]\n",
    "    flag=0\n",
    "    if upval<=lowval:\n",
    "        flag+=1\n",
    "    else:\n",
    "        precision[i]=precision[i+1]\n",
    "    i=i-1\n",
    "\n",
    "# plotting...\n",
    "fig, ax = plt.subplots()\n",
    "loopval = len(recallval)-1\n",
    "for i in range(loopval):\n",
    "    rec1 = recall[i]\n",
    "    recp = recall[i+1]\n",
    "    pre1 = precision[i]\n",
    "    prep = precision[i+1]\n",
    "    ax.plot((rec1,rec1),(pre1,prep),'k-',label='',color='red') #vertical\n",
    "    checkloop+=1\n",
    "    ax.plot((rec1,recp),(prep,prep),'k-',label='',color='red') #horizontal\n",
    "\n",
    "precision2=np.array(precisionval).copy()\n",
    "ax.plot(recall,precision2,'k--',color='blue')\n",
    "#ax.legend()\n",
    "ax.set_xlabel(\"Recall\")\n",
    "ax.set_ylabel(\"Precision\")\n",
    "# plt.savefig('fig.jpg')\n",
    "fig.show()"
   ]
  },
  {
   "cell_type": "markdown",
   "metadata": {},
   "source": [
    "### Getting Precision and Recall - Method 2"
   ]
  },
  {
   "cell_type": "code",
   "execution_count": 250,
   "metadata": {},
   "outputs": [],
   "source": [
    "sorted_results = sorted(tf_rel_dic.items(), key=operator.itemgetter(1),reverse=True)\n",
    "\n",
    "total_relevant = 0\n",
    "for i in range(len(sorted_results)):\n",
    "    if grnd_label[sorted_results[i][0]]>0:\n",
    "        total_relevant+=1\n",
    "\n",
    "# print total_relevant\n",
    "\n",
    "kval = []\n",
    "precisionval = []\n",
    "recallval = []\n",
    "for i in range(1,len(sorted_results)+1):\n",
    "    total_retrieved = i\n",
    "    topk = sorted_results[:i]\n",
    "#     restk = sorted_results[i:]\n",
    "    kval.append(i)\n",
    "    tp = 0\n",
    "    for j in range(len(topk)):\n",
    "        indx = topk[j][0]\n",
    "        grnd_rel_val = grnd_label[indx]\n",
    "        if grnd_rel_val>0:\n",
    "            tp+=1\n",
    "    precision_val = (tp*1.0)/(total_retrieved)\n",
    "    recall_val = (tp*1.0)/(total_relevant)\n",
    "    precisionval.append(precision_val)\n",
    "    recallval.append(recall_val)"
   ]
  },
  {
   "cell_type": "code",
   "execution_count": 251,
   "metadata": {},
   "outputs": [
    {
     "name": "stdout",
     "output_type": "stream",
     "text": [
      "1 0.0 0.0\n",
      "2 0.0 0.0\n",
      "3 0.0 0.0\n",
      "4 0.0 0.0\n",
      "5 0.2 0.0227272727273\n",
      "6 0.166666666667 0.0227272727273\n",
      "7 0.285714285714 0.0454545454545\n",
      "8 0.375 0.0681818181818\n",
      "9 0.333333333333 0.0681818181818\n",
      "10 0.4 0.0909090909091\n",
      "11 0.363636363636 0.0909090909091\n",
      "12 0.416666666667 0.113636363636\n",
      "13 0.461538461538 0.136363636364\n",
      "14 0.5 0.159090909091\n",
      "15 0.533333333333 0.181818181818\n",
      "16 0.5625 0.204545454545\n",
      "17 0.529411764706 0.204545454545\n",
      "18 0.555555555556 0.227272727273\n",
      "19 0.526315789474 0.227272727273\n",
      "20 0.55 0.25\n",
      "21 0.52380952381 0.25\n",
      "22 0.545454545455 0.272727272727\n",
      "23 0.521739130435 0.272727272727\n",
      "24 0.541666666667 0.295454545455\n",
      "25 0.56 0.318181818182\n",
      "26 0.576923076923 0.340909090909\n",
      "27 0.555555555556 0.340909090909\n",
      "28 0.535714285714 0.340909090909\n",
      "29 0.51724137931 0.340909090909\n",
      "30 0.5 0.340909090909\n",
      "31 0.483870967742 0.340909090909\n",
      "32 0.5 0.363636363636\n",
      "33 0.484848484848 0.363636363636\n",
      "34 0.5 0.386363636364\n",
      "35 0.485714285714 0.386363636364\n",
      "36 0.472222222222 0.386363636364\n",
      "37 0.486486486486 0.409090909091\n",
      "38 0.5 0.431818181818\n",
      "39 0.487179487179 0.431818181818\n",
      "40 0.5 0.454545454545\n",
      "41 0.512195121951 0.477272727273\n",
      "42 0.52380952381 0.5\n",
      "43 0.511627906977 0.5\n",
      "44 0.5 0.5\n",
      "45 0.488888888889 0.5\n",
      "46 0.478260869565 0.5\n",
      "47 0.489361702128 0.522727272727\n",
      "48 0.479166666667 0.522727272727\n",
      "49 0.489795918367 0.545454545455\n",
      "50 0.48 0.545454545455\n",
      "51 0.490196078431 0.568181818182\n",
      "52 0.5 0.590909090909\n",
      "53 0.490566037736 0.590909090909\n",
      "54 0.5 0.613636363636\n",
      "55 0.509090909091 0.636363636364\n",
      "56 0.5 0.636363636364\n",
      "57 0.508771929825 0.659090909091\n",
      "58 0.51724137931 0.681818181818\n",
      "59 0.508474576271 0.681818181818\n",
      "60 0.516666666667 0.704545454545\n",
      "61 0.508196721311 0.704545454545\n",
      "62 0.5 0.704545454545\n",
      "63 0.507936507937 0.727272727273\n",
      "64 0.5 0.727272727273\n",
      "65 0.492307692308 0.727272727273\n",
      "66 0.484848484848 0.727272727273\n",
      "67 0.492537313433 0.75\n",
      "68 0.485294117647 0.75\n",
      "69 0.492753623188 0.772727272727\n",
      "70 0.485714285714 0.772727272727\n",
      "71 0.492957746479 0.795454545455\n",
      "72 0.486111111111 0.795454545455\n",
      "73 0.493150684932 0.818181818182\n",
      "74 0.486486486486 0.818181818182\n",
      "75 0.493333333333 0.840909090909\n",
      "76 0.486842105263 0.840909090909\n",
      "77 0.480519480519 0.840909090909\n",
      "78 0.487179487179 0.863636363636\n",
      "79 0.493670886076 0.886363636364\n",
      "80 0.5 0.909090909091\n",
      "81 0.493827160494 0.909090909091\n",
      "82 0.5 0.931818181818\n",
      "83 0.493975903614 0.931818181818\n",
      "84 0.488095238095 0.931818181818\n",
      "85 0.482352941176 0.931818181818\n",
      "86 0.476744186047 0.931818181818\n",
      "87 0.471264367816 0.931818181818\n",
      "88 0.465909090909 0.931818181818\n",
      "89 0.460674157303 0.931818181818\n",
      "90 0.466666666667 0.954545454545\n",
      "91 0.461538461538 0.954545454545\n",
      "92 0.45652173913 0.954545454545\n",
      "93 0.462365591398 0.977272727273\n",
      "94 0.457446808511 0.977272727273\n",
      "95 0.452631578947 0.977272727273\n",
      "96 0.447916666667 0.977272727273\n",
      "97 0.443298969072 0.977272727273\n",
      "98 0.448979591837 1.0\n",
      "99 0.444444444444 1.0\n",
      "100 0.44 1.0\n",
      "101 0.435643564356 1.0\n",
      "102 0.43137254902 1.0\n",
      "103 0.427184466019 1.0\n"
     ]
    }
   ],
   "source": [
    "for i in range(len(precisionval)):\n",
    "    print kval[i],precisionval[i],recallval[i]"
   ]
  },
  {
   "cell_type": "markdown",
   "metadata": {},
   "source": [
    "### Plotting PR Curve with Interpolation"
   ]
  },
  {
   "cell_type": "code",
   "execution_count": 277,
   "metadata": {},
   "outputs": [
    {
     "data": {
      "image/png": "[encoded data removed]",
      "text/plain": [
       "<Figure size 432x288 with 1 Axes>"
      ]
     },
     "metadata": {
      "needs_background": "light"
     },
     "output_type": "display_data"
    }
   ],
   "source": [
    "import numpy as np\n",
    "import matplotlib.pyplot as plt\n",
    "\n",
    "#just a dummy sample\n",
    "recall=np.array(recallval)\n",
    "checkloop = 0\n",
    "precision=np.array(precisionval)\n",
    "i=len(recallval)-2\n",
    "\n",
    "# interpolation...\n",
    "while i>=0:\n",
    "    upval = precision[i+1]\n",
    "    lowval = precision[i]\n",
    "    flag=0\n",
    "    if upval<=lowval:\n",
    "        flag+=1\n",
    "    else:\n",
    "        precision[i]=precision[i+1]\n",
    "    i=i-1\n",
    "\n",
    "# plotting...\n",
    "fig, ax = plt.subplots()\n",
    "loopval = len(recallval)-1\n",
    "for i in range(loopval):\n",
    "    rec1 = recall[i]\n",
    "    recp = recall[i+1]\n",
    "    pre1 = precision[i]\n",
    "    prep = precision[i+1]\n",
    "    ax.plot((rec1,rec1),(pre1,prep),'k-',label='',color='red') #vertical\n",
    "    checkloop+=1\n",
    "    ax.plot((rec1,recp),(prep,prep),'k-',label='',color='red') #horizontal\n",
    "\n",
    "precision2=np.array(precisionval).copy()\n",
    "ax.plot(recall,precision2,'k--',color='blue')\n",
    "#ax.legend()\n",
    "ax.set_xlabel(\"Recall\")\n",
    "ax.set_ylabel(\"Precision\")\n",
    "# plt.savefig('fig.jpg')\n",
    "fig.show()"
   ]
  }
 ],
 "metadata": {
  "kernelspec": {
   "display_name": "Python 2",
   "language": "python",
   "name": "python2"
  },
  "language_info": {
   "codemirror_mode": {
    "name": "ipython",
    "version": 2
   },
   "file_extension": ".py",
   "mimetype": "text/x-python",
   "name": "python",
   "nbconvert_exporter": "python",
   "pygments_lexer": "ipython2",
   "version": "2.7.15rc1"
  }
 },
 "nbformat": 4,
 "nbformat_minor": 2
}
